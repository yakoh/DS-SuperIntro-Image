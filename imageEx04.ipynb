{
  "cells": [
    {
      "cell_type": "markdown",
      "source": [
        "CNNは畳み込み演算を含むため、計算量が多くなる傾向があります。Google Colaboratoryで実行する際には、GPUを利用するようにランタイムのタイプを変更しておきましょう。今回の例では、CPUだけでは1時間程かかりますが、GPUを使うことで8分程度で終わるようになります。"
      ],
      "metadata": {
        "id": "v_lR7iQT0L0b"
      }
    },
    {
      "cell_type": "markdown",
      "metadata": {
        "id": "wj-R8aKRx5VR"
      },
      "source": [
        "mnistのデータを読み込みます。"
      ]
    },
    {
      "cell_type": "code",
      "execution_count": null,
      "metadata": {
        "id": "BDRTqnZ0x5VT"
      },
      "outputs": [],
      "source": [
        "import tensorflow as tf\n",
        "mnist = tf.keras.datasets.mnist\n",
        "(training_images, training_labels), (test_images, test_labels) = mnist.load_data()"
      ]
    },
    {
      "cell_type": "markdown",
      "metadata": {
        "id": "3ue2RByXx5VU"
      },
      "source": [
        "数値を [0, 1] に正規化します。"
      ]
    },
    {
      "cell_type": "code",
      "execution_count": null,
      "metadata": {
        "id": "HseUl3NUx5VU"
      },
      "outputs": [],
      "source": [
        "training_images  = training_images / 255.0\n",
        "test_images = test_images / 255.0"
      ]
    },
    {
      "cell_type": "markdown",
      "metadata": {
        "id": "kkQW9UC8x5VU"
      },
      "source": [
        "CNNのモデルを作成します。"
      ]
    },
    {
      "cell_type": "code",
      "execution_count": null,
      "metadata": {
        "id": "KjEB__Fjx5VV"
      },
      "outputs": [],
      "source": [
        "model = tf.keras.models.Sequential()\n",
        "model.add(tf.keras.layers.Input(shape=(28, 28, 1)))\n",
        "model.add(tf.keras.layers.Conv2D(64, kernel_size=(3, 3), activation='relu'))\n",
        "model.add(tf.keras.layers.MaxPooling2D(pool_size=(2, 2)))\n",
        "model.add(tf.keras.layers.Conv2D(32, kernel_size=(3, 3), activation='relu'))\n",
        "model.add(tf.keras.layers.MaxPooling2D(pool_size=(2, 2)))\n",
        "model.add(tf.keras.layers.Flatten())\n",
        "model.add(tf.keras.layers.Dense(units=10, activation='softmax'))"
      ]
    },
    {
      "cell_type": "markdown",
      "metadata": {
        "id": "ibKdkZCpx5VV"
      },
      "source": [
        "compile()によって訓練方法を設定します。"
      ]
    },
    {
      "cell_type": "code",
      "execution_count": null,
      "metadata": {
        "id": "BuX8urHvx5VV"
      },
      "outputs": [],
      "source": [
        "model.compile(optimizer = tf.optimizers.Adam(),\n",
        "              loss = 'sparse_categorical_crossentropy',\n",
        "              metrics=['accuracy'])"
      ]
    },
    {
      "cell_type": "markdown",
      "metadata": {
        "id": "gu7LPCHCx5VW"
      },
      "source": [
        "訓練します。CNNは畳み込み演算を含むため、計算量が多く、時間がかかります。verbose=1として途中経過を少し表示し、終了時刻を見積もれるようにしています。"
      ]
    },
    {
      "cell_type": "code",
      "execution_count": null,
      "metadata": {
        "id": "y_9oZJxix5VW"
      },
      "outputs": [],
      "source": [
        "train_hist=model.fit(training_images, training_labels, epochs=50, verbose=1,\n",
        "                     validation_data=(test_images, test_labels), batch_size=128)"
      ]
    },
    {
      "cell_type": "markdown",
      "metadata": {
        "id": "dTHP-4H3x5VW"
      },
      "source": [
        "学習曲線をプロットします。"
      ]
    },
    {
      "cell_type": "code",
      "execution_count": null,
      "metadata": {
        "id": "WCyquohzx5VW"
      },
      "outputs": [],
      "source": [
        "import matplotlib.pyplot as plt\n",
        "import numpy as np\n",
        "figs, axs=plt.subplots(1, 2, figsize=(12, 4))\n",
        "axs[0].plot(train_hist.history['loss'], label='training')\n",
        "axs[0].plot(train_hist.history['val_loss'], label='validation')\n",
        "axs[0].legend()\n",
        "axs[0].set_xlabel('Epoch')\n",
        "axs[0].set_ylabel('Loss')\n",
        "axs[1].plot(train_hist.history['accuracy'], label='training')\n",
        "axs[1].plot(train_hist.history['val_accuracy'], label='validation')\n",
        "axs[1].legend()\n",
        "axs[1].set_xlabel('Epoch')\n",
        "axs[1].set_ylabel('Accuracy')\n",
        "plt.show()"
      ]
    },
    {
      "cell_type": "markdown",
      "metadata": {
        "id": "NKiCi9eex5VX"
      },
      "source": [
        "最終的な検証用の損失と精度を数値で確認しておきます。"
      ]
    },
    {
      "cell_type": "code",
      "execution_count": null,
      "metadata": {
        "id": "Fhnbcg0Wx5VX"
      },
      "outputs": [],
      "source": [
        "model.evaluate(test_images, test_labels)"
      ]
    },
    {
      "cell_type": "markdown",
      "metadata": {
        "id": "f8Gg3DSYx5VX"
      },
      "source": [
        "モデルのパラメータ数などを確認します。"
      ]
    },
    {
      "cell_type": "code",
      "execution_count": null,
      "metadata": {
        "id": "q3LVs7Hvx5VX"
      },
      "outputs": [],
      "source": [
        "model.summary()"
      ]
    }
  ],
  "metadata": {
    "kernelspec": {
      "display_name": "Python 3",
      "name": "python3"
    },
    "language_info": {
      "codemirror_mode": {
        "name": "ipython",
        "version": 3
      },
      "file_extension": ".py",
      "mimetype": "text/x-python",
      "name": "python",
      "nbconvert_exporter": "python",
      "pygments_lexer": "ipython3",
      "version": "3.10.9"
    },
    "orig_nbformat": 4,
    "colab": {
      "provenance": [],
      "gpuType": "T4"
    },
    "accelerator": "GPU"
  },
  "nbformat": 4,
  "nbformat_minor": 0
}